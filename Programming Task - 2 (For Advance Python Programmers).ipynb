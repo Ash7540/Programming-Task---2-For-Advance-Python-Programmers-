{
 "cells": [
  {
   "cell_type": "code",
   "execution_count": null,
   "id": "7b7c09a3",
   "metadata": {},
   "outputs": [],
   "source": [
    "# Defanging an IP Address\n",
    "class Solution:\n",
    "    def defangIPaddr(self, address: str) -> str:\n",
    "        a = ''\n",
    "        for j in address:\n",
    "            if j == '.': a+='[.]'\n",
    "            else: a+=j\n",
    "        return a"
   ]
  },
  {
   "cell_type": "code",
   "execution_count": null,
   "id": "a10d3dca",
   "metadata": {},
   "outputs": [],
   "source": [
    "# Find Numbers with Even Number of Digits\n",
    "class Solution:\n",
    "    def findNumbers(self, nums: List[int]) -> int:\n",
    "        c = 0\n",
    "        for i in nums:\n",
    "            length = floor(log10(i)+1)\n",
    "            if length%2 == 0:\n",
    "                c+=1\n",
    "        return c"
   ]
  },
  {
   "cell_type": "code",
   "execution_count": null,
   "id": "7fd0e4ae",
   "metadata": {},
   "outputs": [],
   "source": [
    "# Number of Good Pairs\n",
    "class Solution:\n",
    "    def numIdenticalPairs(self, nums: List[int]) -> int:\n",
    "        c=0\n",
    "        for m in range(len(nums)):\n",
    "            for n in range(len(nums)):\n",
    "                if nums[m]==nums[n] and m<n:\n",
    "                    c+=1\n",
    "        return c"
   ]
  },
  {
   "cell_type": "code",
   "execution_count": null,
   "id": "eb459a2b",
   "metadata": {},
   "outputs": [],
   "source": [
    "# How Many Numbers Are Smaller Than the Current Number\n",
    "class Solution:\n",
    "    def smallerNumbersThanCurrent(self, nums: List[int]) -> List[int]:\n",
    "        res=[]\n",
    "        for m in range(len(nums)):\n",
    "            c=0\n",
    "            for n in range(len(nums)):\n",
    "                if nums[m]>nums[n]:\n",
    "                    c+=1\n",
    "            res.append(c)    \n",
    "        return res"
   ]
  },
  {
   "cell_type": "code",
   "execution_count": null,
   "id": "1b505b1c",
   "metadata": {},
   "outputs": [],
   "source": [
    "# Subtract the Product and Sum of Digits of an Integer\n",
    "class Solution:\n",
    "    def subtractProductAndSum(self, n: int) -> int:\n",
    "        a = 0\n",
    "        b = 1\n",
    "        c = str(n)\n",
    "        for i in c:\n",
    "            a = a + int(i)\n",
    "            b = b * int(i)\n",
    "        return b - a"
   ]
  },
  {
   "cell_type": "code",
   "execution_count": null,
   "id": "a1395792",
   "metadata": {},
   "outputs": [],
   "source": [
    "# XOR Operation in an Array\n",
    "class Solution:\n",
    "    def xorOperation(self, n: int, start: int) -> int:\n",
    "        a = 0\n",
    "        for i in range(n):\n",
    "            a = a ^ start\n",
    "            start+=2\n",
    "        return a"
   ]
  }
 ],
 "metadata": {
  "kernelspec": {
   "display_name": "Python 3 (ipykernel)",
   "language": "python",
   "name": "python3"
  },
  "language_info": {
   "codemirror_mode": {
    "name": "ipython",
    "version": 3
   },
   "file_extension": ".py",
   "mimetype": "text/x-python",
   "name": "python",
   "nbconvert_exporter": "python",
   "pygments_lexer": "ipython3",
   "version": "3.9.12"
  }
 },
 "nbformat": 4,
 "nbformat_minor": 5
}
